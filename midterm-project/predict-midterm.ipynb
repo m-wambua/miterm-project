{
 "cells": [
  {
   "cell_type": "code",
   "execution_count": 10,
   "id": "b44263b2",
   "metadata": {},
   "outputs": [],
   "source": [
    "import pickle\n"
   ]
  },
  {
   "cell_type": "code",
   "execution_count": 11,
   "id": "23a70a84",
   "metadata": {},
   "outputs": [],
   "source": [
    "from flask import Flask"
   ]
  },
  {
   "cell_type": "code",
   "execution_count": 12,
   "id": "2716cb98",
   "metadata": {},
   "outputs": [],
   "source": [
    "from flask import request\n",
    "from flask import jsonify\n",
    "model_file = 'model_C=1.0.bin'\n"
   ]
  },
  {
   "cell_type": "code",
   "execution_count": 13,
   "id": "7ca94ca3",
   "metadata": {},
   "outputs": [
    {
     "name": "stdout",
     "output_type": "stream",
     "text": [
      " * Serving Flask app \"DEATH_EVENT\" (lazy loading)\n",
      " * Environment: production\n",
      "   WARNING: This is a development server. Do not use it in a production deployment.\n",
      "   Use a production WSGI server instead.\n",
      " * Debug mode: on\n"
     ]
    },
    {
     "name": "stderr",
     "output_type": "stream",
     "text": [
      " * Restarting with windowsapi reloader\n"
     ]
    },
    {
     "ename": "SystemExit",
     "evalue": "1",
     "output_type": "error",
     "traceback": [
      "An exception has occurred, use %tb to see the full traceback.\n",
      "\u001b[1;31mSystemExit\u001b[0m\u001b[1;31m:\u001b[0m 1\n"
     ]
    }
   ],
   "source": [
    "with open(model_file,'rb') as f_in:\n",
    "    dv,modle=pickle.load(f_in)\n",
    "    \n",
    "app = Flask('DEATH_EVENT')\n",
    "\n",
    "def predict():\n",
    "    patient=request.get_json()\n",
    "    x=dv.tranform([patient])\n",
    "    y_pred=model.predict_proba(x)[0,1]\n",
    "    DEATH_EVENT=y_pred>=0.65\n",
    "    result={\n",
    "        'DEATH_EVENT Probality':float(y_pred),\n",
    "        'DEATH_EVENT':bool(DEATH_EVENT)\n",
    "    }\n",
    "    \n",
    "    return jsonify(results)\n",
    "\n",
    "\n",
    "if __name__== \"__main__\":\n",
    "    app.run(debug='0.0.0.0',port=9696)\n",
    "    \n",
    "    "
   ]
  },
  {
   "cell_type": "code",
   "execution_count": 16,
   "id": "4bc90b52",
   "metadata": {},
   "outputs": [
    {
     "ename": "SyntaxError",
     "evalue": "unexpected EOF while parsing (<ipython-input-16-e40da467f46d>, line 1)",
     "output_type": "error",
     "traceback": [
      "\u001b[1;36m  File \u001b[1;32m\"<ipython-input-16-e40da467f46d>\"\u001b[1;36m, line \u001b[1;32m1\u001b[0m\n\u001b[1;33m    @app.route('/predict',methods = ['POST'])\u001b[0m\n\u001b[1;37m                                             ^\u001b[0m\n\u001b[1;31mSyntaxError\u001b[0m\u001b[1;31m:\u001b[0m unexpected EOF while parsing\n"
     ]
    }
   ],
   "source": [
    "@app.route('/predict',methods = ['POST'])"
   ]
  },
  {
   "cell_type": "code",
   "execution_count": null,
   "id": "12f30d8b",
   "metadata": {},
   "outputs": [],
   "source": []
  }
 ],
 "metadata": {
  "kernelspec": {
   "display_name": "Python 3",
   "language": "python",
   "name": "python3"
  },
  "language_info": {
   "codemirror_mode": {
    "name": "ipython",
    "version": 3
   },
   "file_extension": ".py",
   "mimetype": "text/x-python",
   "name": "python",
   "nbconvert_exporter": "python",
   "pygments_lexer": "ipython3",
   "version": "3.8.8"
  }
 },
 "nbformat": 4,
 "nbformat_minor": 5
}
